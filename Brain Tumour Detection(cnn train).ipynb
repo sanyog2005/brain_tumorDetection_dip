{
 "cells": [
  {
   "cell_type": "markdown",
   "id": "c2935699-8167-47d7-bc73-9f9a08caeb3f",
   "metadata": {},
   "source": [
    "## Importing Libraries"
   ]
  },
  {
   "cell_type": "code",
   "execution_count": 1,
   "id": "dddafb84-3940-4d94-b2a3-55a1b19bd38f",
   "metadata": {},
   "outputs": [],
   "source": [
    "import pandas as pd\n",
    "import matplotlib.pyplot as plt\n",
    "import seaborn as sns\n",
    "import tensorflow as tf"
   ]
  },
  {
   "cell_type": "markdown",
   "id": "a2b902c3-13fb-410b-b027-226a34374c30",
   "metadata": {},
   "source": [
    "### training image preprocessing"
   ]
  },
  {
   "cell_type": "code",
   "execution_count": 2,
   "id": "678679a2-0c29-47c3-9784-2cd60ef957da",
   "metadata": {},
   "outputs": [
    {
     "name": "stdout",
     "output_type": "stream",
     "text": [
      "Found 5712 files belonging to 4 classes.\n"
     ]
    }
   ],
   "source": [
    "training_set = tf.keras.utils.image_dataset_from_directory(\n",
    "    'Training',\n",
    "    labels=\"inferred\",\n",
    "    label_mode=\"categorical\",\n",
    "    class_names=None,\n",
    "    color_mode=\"rgb\",\n",
    "    batch_size=32,\n",
    "    image_size=(128, 128),\n",
    "    shuffle=True,\n",
    "    seed=None,\n",
    "    validation_split=None,\n",
    "    subset=None,\n",
    "    interpolation=\"bilinear\",\n",
    "    follow_links=False,\n",
    "    crop_to_aspect_ratio=False,\n",
    "    data_format=None,\n",
    ")"
   ]
  },
  {
   "cell_type": "markdown",
   "id": "9e35762a-3dff-4730-8323-53e0ea0fb29d",
   "metadata": {},
   "source": [
    "## validating image preprocessing"
   ]
  },
  {
   "cell_type": "code",
   "execution_count": 3,
   "id": "8e3af579-e039-454a-b232-59da87b6862b",
   "metadata": {},
   "outputs": [
    {
     "name": "stdout",
     "output_type": "stream",
     "text": [
      "Found 1311 files belonging to 4 classes.\n"
     ]
    }
   ],
   "source": [
    "validation_set = tf.keras.utils.image_dataset_from_directory(\n",
    "    'Testing',\n",
    "    labels=\"inferred\",\n",
    "    label_mode=\"categorical\",\n",
    "    class_names=None,\n",
    "    color_mode=\"rgb\",\n",
    "    batch_size=32,\n",
    "    image_size=(128, 128),\n",
    "    shuffle=True,\n",
    "    seed=None,\n",
    "    validation_split=None,\n",
    "    subset=None,\n",
    "    interpolation=\"bilinear\",\n",
    "    follow_links=False,\n",
    "    crop_to_aspect_ratio=False,\n",
    "    data_format=None,\n",
    ")"
   ]
  },
  {
   "cell_type": "code",
   "execution_count": 4,
   "id": "dce3a2bf-90fa-42b6-aee4-46b1322393a1",
   "metadata": {},
   "outputs": [
    {
     "name": "stdout",
     "output_type": "stream",
     "text": [
      "tf.Tensor(\n",
      "[[[[0.   0.   0.  ]\n",
      "   [0.   0.   0.  ]\n",
      "   [0.   0.   0.  ]\n",
      "   ...\n",
      "   [0.   0.   0.  ]\n",
      "   [0.   0.   0.  ]\n",
      "   [0.   0.   0.  ]]\n",
      "\n",
      "  [[0.   0.   0.  ]\n",
      "   [0.   0.   0.  ]\n",
      "   [0.   0.   0.  ]\n",
      "   ...\n",
      "   [0.   0.   0.  ]\n",
      "   [0.   0.   0.  ]\n",
      "   [0.   0.   0.  ]]\n",
      "\n",
      "  [[2.   2.   2.  ]\n",
      "   [2.   2.   2.  ]\n",
      "   [2.   2.   2.  ]\n",
      "   ...\n",
      "   [2.   2.   2.  ]\n",
      "   [2.   2.   2.  ]\n",
      "   [2.   2.   2.  ]]\n",
      "\n",
      "  ...\n",
      "\n",
      "  [[3.   3.   3.  ]\n",
      "   [3.   3.   3.  ]\n",
      "   [2.   2.   2.  ]\n",
      "   ...\n",
      "   [3.   3.   3.  ]\n",
      "   [2.   2.   2.  ]\n",
      "   [2.   2.   2.  ]]\n",
      "\n",
      "  [[1.   1.   1.  ]\n",
      "   [1.   1.   1.  ]\n",
      "   [1.   1.   1.  ]\n",
      "   ...\n",
      "   [1.   1.   1.  ]\n",
      "   [1.   1.   1.  ]\n",
      "   [1.   1.   1.  ]]\n",
      "\n",
      "  [[0.   0.   0.  ]\n",
      "   [0.   0.   0.  ]\n",
      "   [0.   0.   0.  ]\n",
      "   ...\n",
      "   [0.   0.   0.  ]\n",
      "   [0.   0.   0.  ]\n",
      "   [0.   0.   0.  ]]]\n",
      "\n",
      "\n",
      " [[[0.   0.   0.  ]\n",
      "   [0.   0.   0.  ]\n",
      "   [0.   0.   0.  ]\n",
      "   ...\n",
      "   [0.   0.   0.  ]\n",
      "   [0.   0.   0.  ]\n",
      "   [0.   0.   0.  ]]\n",
      "\n",
      "  [[0.   0.   0.  ]\n",
      "   [0.   0.   0.  ]\n",
      "   [0.   0.   0.  ]\n",
      "   ...\n",
      "   [0.   0.   0.  ]\n",
      "   [0.   0.   0.  ]\n",
      "   [0.   0.   0.  ]]\n",
      "\n",
      "  [[0.   0.   0.  ]\n",
      "   [0.   0.   0.  ]\n",
      "   [0.   0.   0.  ]\n",
      "   ...\n",
      "   [0.   0.   0.  ]\n",
      "   [0.   0.   0.  ]\n",
      "   [0.   0.   0.  ]]\n",
      "\n",
      "  ...\n",
      "\n",
      "  [[0.   0.   0.  ]\n",
      "   [0.   0.   0.  ]\n",
      "   [0.   0.   0.  ]\n",
      "   ...\n",
      "   [0.   0.   0.  ]\n",
      "   [0.   0.   0.  ]\n",
      "   [0.   0.   0.  ]]\n",
      "\n",
      "  [[0.   0.   0.  ]\n",
      "   [0.   0.   0.  ]\n",
      "   [0.   0.   0.  ]\n",
      "   ...\n",
      "   [0.   0.   0.  ]\n",
      "   [0.   0.   0.  ]\n",
      "   [0.   0.   0.  ]]\n",
      "\n",
      "  [[0.   0.   0.  ]\n",
      "   [0.   0.   0.  ]\n",
      "   [0.   0.   0.  ]\n",
      "   ...\n",
      "   [0.   0.   0.  ]\n",
      "   [0.   0.   0.  ]\n",
      "   [0.   0.   0.  ]]]\n",
      "\n",
      "\n",
      " [[[0.   0.   0.  ]\n",
      "   [0.   0.   0.  ]\n",
      "   [0.   0.   0.  ]\n",
      "   ...\n",
      "   [0.   0.   0.  ]\n",
      "   [0.   0.   0.  ]\n",
      "   [0.   0.   0.  ]]\n",
      "\n",
      "  [[0.   0.   0.  ]\n",
      "   [0.   0.   0.  ]\n",
      "   [0.   0.   0.  ]\n",
      "   ...\n",
      "   [0.   0.   0.  ]\n",
      "   [0.   0.   0.  ]\n",
      "   [0.   0.   0.  ]]\n",
      "\n",
      "  [[0.   0.   0.  ]\n",
      "   [0.   0.   0.  ]\n",
      "   [0.   0.   0.  ]\n",
      "   ...\n",
      "   [0.   0.   0.  ]\n",
      "   [0.   0.   0.  ]\n",
      "   [0.   0.   0.  ]]\n",
      "\n",
      "  ...\n",
      "\n",
      "  [[0.   0.   0.  ]\n",
      "   [0.   0.   0.  ]\n",
      "   [0.   0.   0.  ]\n",
      "   ...\n",
      "   [0.   0.   0.  ]\n",
      "   [0.   0.   0.  ]\n",
      "   [0.   0.   0.  ]]\n",
      "\n",
      "  [[0.   0.   0.  ]\n",
      "   [0.   0.   0.  ]\n",
      "   [0.   0.   0.  ]\n",
      "   ...\n",
      "   [0.   0.   0.  ]\n",
      "   [0.   0.   0.  ]\n",
      "   [0.   0.   0.  ]]\n",
      "\n",
      "  [[0.   0.   0.  ]\n",
      "   [0.   0.   0.  ]\n",
      "   [0.   0.   0.  ]\n",
      "   ...\n",
      "   [0.   0.   0.  ]\n",
      "   [0.   0.   0.  ]\n",
      "   [0.   0.   0.  ]]]\n",
      "\n",
      "\n",
      " ...\n",
      "\n",
      "\n",
      " [[[0.   0.   0.  ]\n",
      "   [0.   0.   0.  ]\n",
      "   [0.   0.   0.  ]\n",
      "   ...\n",
      "   [0.   0.   0.  ]\n",
      "   [0.   0.   0.  ]\n",
      "   [0.   0.   0.  ]]\n",
      "\n",
      "  [[0.   0.   0.  ]\n",
      "   [0.   0.   0.  ]\n",
      "   [0.   0.   0.  ]\n",
      "   ...\n",
      "   [0.   0.   0.  ]\n",
      "   [0.   0.   0.  ]\n",
      "   [0.   0.   0.  ]]\n",
      "\n",
      "  [[0.   0.   0.  ]\n",
      "   [0.   0.   0.  ]\n",
      "   [0.   0.   0.  ]\n",
      "   ...\n",
      "   [0.   0.   0.  ]\n",
      "   [0.   0.   0.  ]\n",
      "   [0.   0.   0.  ]]\n",
      "\n",
      "  ...\n",
      "\n",
      "  [[0.   0.   0.  ]\n",
      "   [0.   0.   0.  ]\n",
      "   [0.   0.   0.  ]\n",
      "   ...\n",
      "   [0.   0.   0.  ]\n",
      "   [0.   0.   0.  ]\n",
      "   [0.   0.   0.  ]]\n",
      "\n",
      "  [[0.   0.   0.  ]\n",
      "   [0.   0.   0.  ]\n",
      "   [0.   0.   0.  ]\n",
      "   ...\n",
      "   [0.   0.   0.  ]\n",
      "   [0.   0.   0.  ]\n",
      "   [0.   0.   0.  ]]\n",
      "\n",
      "  [[0.   0.   0.  ]\n",
      "   [0.   0.   0.  ]\n",
      "   [0.   0.   0.  ]\n",
      "   ...\n",
      "   [0.   0.   0.  ]\n",
      "   [0.   0.   0.  ]\n",
      "   [0.   0.   0.  ]]]\n",
      "\n",
      "\n",
      " [[[0.   0.   0.  ]\n",
      "   [0.   0.   0.  ]\n",
      "   [0.   0.   0.  ]\n",
      "   ...\n",
      "   [0.   0.   0.  ]\n",
      "   [0.   0.   0.  ]\n",
      "   [0.   0.   0.  ]]\n",
      "\n",
      "  [[1.   1.   1.  ]\n",
      "   [1.   1.   1.  ]\n",
      "   [1.   1.   1.  ]\n",
      "   ...\n",
      "   [0.   0.   0.  ]\n",
      "   [0.   0.   0.  ]\n",
      "   [0.   0.   0.  ]]\n",
      "\n",
      "  [[2.   2.   2.  ]\n",
      "   [2.   2.   2.  ]\n",
      "   [2.   2.   2.  ]\n",
      "   ...\n",
      "   [0.   0.   0.  ]\n",
      "   [0.   0.   0.  ]\n",
      "   [0.   0.   0.  ]]\n",
      "\n",
      "  ...\n",
      "\n",
      "  [[1.5  1.5  1.5 ]\n",
      "   [1.5  1.5  1.5 ]\n",
      "   [2.   2.   2.  ]\n",
      "   ...\n",
      "   [1.   1.   1.  ]\n",
      "   [0.25 0.25 0.25]\n",
      "   [0.25 0.25 0.25]]\n",
      "\n",
      "  [[1.   1.   1.  ]\n",
      "   [1.   1.   1.  ]\n",
      "   [1.   1.   1.  ]\n",
      "   ...\n",
      "   [0.   0.   0.  ]\n",
      "   [0.   0.   0.  ]\n",
      "   [0.   0.   0.  ]]\n",
      "\n",
      "  [[0.   0.   0.  ]\n",
      "   [0.   0.   0.  ]\n",
      "   [0.   0.   0.  ]\n",
      "   ...\n",
      "   [0.   0.   0.  ]\n",
      "   [0.   0.   0.  ]\n",
      "   [0.   0.   0.  ]]]\n",
      "\n",
      "\n",
      " [[[0.   0.   0.  ]\n",
      "   [0.   0.   0.  ]\n",
      "   [0.   0.   0.  ]\n",
      "   ...\n",
      "   [0.   0.   0.  ]\n",
      "   [0.   0.   0.  ]\n",
      "   [0.   0.   0.  ]]\n",
      "\n",
      "  [[0.   0.   0.  ]\n",
      "   [0.   0.   0.  ]\n",
      "   [0.   0.   0.  ]\n",
      "   ...\n",
      "   [0.   0.   0.  ]\n",
      "   [0.   0.   0.  ]\n",
      "   [0.   0.   0.  ]]\n",
      "\n",
      "  [[0.   0.   0.  ]\n",
      "   [0.   0.   0.  ]\n",
      "   [0.   0.   0.  ]\n",
      "   ...\n",
      "   [0.   0.   0.  ]\n",
      "   [0.   0.   0.  ]\n",
      "   [0.   0.   0.  ]]\n",
      "\n",
      "  ...\n",
      "\n",
      "  [[0.   0.   0.  ]\n",
      "   [0.   0.   0.  ]\n",
      "   [0.   0.   0.  ]\n",
      "   ...\n",
      "   [0.   0.   0.  ]\n",
      "   [0.   0.   0.  ]\n",
      "   [0.   0.   0.  ]]\n",
      "\n",
      "  [[0.   0.   0.  ]\n",
      "   [0.   0.   0.  ]\n",
      "   [0.   0.   0.  ]\n",
      "   ...\n",
      "   [0.   0.   0.  ]\n",
      "   [0.   0.   0.  ]\n",
      "   [0.   0.   0.  ]]\n",
      "\n",
      "  [[0.   0.   0.  ]\n",
      "   [0.   0.   0.  ]\n",
      "   [0.   0.   0.  ]\n",
      "   ...\n",
      "   [0.   0.   0.  ]\n",
      "   [0.   0.   0.  ]\n",
      "   [0.   0.   0.  ]]]], shape=(32, 128, 128, 3), dtype=float32) (32, 128, 128, 3)\n",
      "tf.Tensor(\n",
      "[[0. 1. 0. 0.]\n",
      " [1. 0. 0. 0.]\n",
      " [0. 0. 1. 0.]\n",
      " [0. 0. 0. 1.]\n",
      " [0. 0. 0. 1.]\n",
      " [1. 0. 0. 0.]\n",
      " [0. 0. 1. 0.]\n",
      " [0. 0. 0. 1.]\n",
      " [0. 1. 0. 0.]\n",
      " [0. 1. 0. 0.]\n",
      " [1. 0. 0. 0.]\n",
      " [1. 0. 0. 0.]\n",
      " [0. 0. 0. 1.]\n",
      " [0. 0. 1. 0.]\n",
      " [0. 0. 0. 1.]\n",
      " [0. 1. 0. 0.]\n",
      " [0. 0. 1. 0.]\n",
      " [0. 0. 1. 0.]\n",
      " [1. 0. 0. 0.]\n",
      " [0. 0. 1. 0.]\n",
      " [0. 1. 0. 0.]\n",
      " [0. 1. 0. 0.]\n",
      " [0. 0. 0. 1.]\n",
      " [1. 0. 0. 0.]\n",
      " [0. 0. 0. 1.]\n",
      " [0. 1. 0. 0.]\n",
      " [0. 1. 0. 0.]\n",
      " [1. 0. 0. 0.]\n",
      " [0. 0. 1. 0.]\n",
      " [0. 0. 1. 0.]\n",
      " [1. 0. 0. 0.]\n",
      " [1. 0. 0. 0.]], shape=(32, 4), dtype=float32) (32, 4)\n"
     ]
    }
   ],
   "source": [
    "for x,y in training_set :\n",
    "    print(x,x.shape)\n",
    "    print(y,y.shape)\n",
    "    break"
   ]
  },
  {
   "cell_type": "markdown",
   "id": "9a908a43-2335-4df4-8ac9-b2c00318941e",
   "metadata": {},
   "source": [
    "### Building Model\n"
   ]
  },
  {
   "cell_type": "code",
   "execution_count": 5,
   "id": "45851f05-d55a-40a7-9065-60e947b4d56a",
   "metadata": {},
   "outputs": [],
   "source": [
    "from tensorflow.keras.layers import Dense,Conv2D,MaxPool2D,Flatten,Dropout\n",
    "from tensorflow.keras.models import Sequential"
   ]
  },
  {
   "cell_type": "code",
   "execution_count": 6,
   "id": "5ff95728-e219-4ff5-9785-164a3aca61eb",
   "metadata": {},
   "outputs": [],
   "source": [
    "model = Sequential()"
   ]
  },
  {
   "cell_type": "markdown",
   "id": "876d5561-6ec1-41f8-ba84-1e94951743cc",
   "metadata": {},
   "source": [
    "## Building Convolution Layer"
   ]
  },
  {
   "cell_type": "code",
   "execution_count": 7,
   "id": "b1968e9b-63f3-40ce-ad1a-43074d794623",
   "metadata": {},
   "outputs": [
    {
     "name": "stderr",
     "output_type": "stream",
     "text": [
      "C:\\Users\\neera\\AppData\\Local\\Programs\\Python\\Python312\\Lib\\site-packages\\keras\\src\\layers\\convolutional\\base_conv.py:107: UserWarning: Do not pass an `input_shape`/`input_dim` argument to a layer. When using Sequential models, prefer using an `Input(shape)` object as the first layer in the model instead.\n",
      "  super().__init__(activity_regularizer=activity_regularizer, **kwargs)\n"
     ]
    }
   ],
   "source": [
    "model.add(Conv2D(filters=32,kernel_size=3,padding='same',activation='relu',input_shape=[128,128,3]))\n",
    "model.add(Conv2D(filters=32,kernel_size=3,activation='relu'))\n",
    "model.add(MaxPool2D(pool_size=2,strides=2))\n"
   ]
  },
  {
   "cell_type": "code",
   "execution_count": 8,
   "id": "a069e509-99a2-4cf0-91e2-33da291018fd",
   "metadata": {},
   "outputs": [],
   "source": [
    "model.add(Conv2D(filters=64,kernel_size=3,padding='same',activation='relu'))\n",
    "model.add(Conv2D(filters=64,kernel_size=3,activation='relu'))\n",
    "model.add(MaxPool2D(pool_size=2,strides=2))\n"
   ]
  },
  {
   "cell_type": "code",
   "execution_count": 9,
   "id": "9530ceec-3261-45d5-8b01-e80ef14ded22",
   "metadata": {},
   "outputs": [],
   "source": [
    "model.add(Conv2D(filters=128,kernel_size=3,padding='same',activation='relu'))\n",
    "model.add(Conv2D(filters=128,kernel_size=3,activation='relu'))\n",
    "model.add(MaxPool2D(pool_size=2,strides=2))\n"
   ]
  },
  {
   "cell_type": "code",
   "execution_count": 10,
   "id": "73599766-a079-427b-abb4-b7dd50a529e1",
   "metadata": {},
   "outputs": [],
   "source": [
    "model.add(Conv2D(filters=256,kernel_size=3,padding='same',activation='relu'))\n",
    "model.add(Conv2D(filters=256,kernel_size=3,activation='relu'))\n",
    "model.add(MaxPool2D(pool_size=2,strides=2))\n"
   ]
  },
  {
   "cell_type": "code",
   "execution_count": 11,
   "id": "52ffb254-3e09-4502-9c5a-ee8571e0a16f",
   "metadata": {},
   "outputs": [],
   "source": [
    "model.add(Conv2D(filters=512,kernel_size=3,padding='same',activation='relu'))\n",
    "model.add(Conv2D(filters=512,kernel_size=3,activation='relu'))\n",
    "model.add(MaxPool2D(pool_size=2,strides=2))"
   ]
  },
  {
   "cell_type": "code",
   "execution_count": 12,
   "id": "d50db78b-7094-4370-9841-586bbe6ed3cf",
   "metadata": {},
   "outputs": [],
   "source": [
    "model.add(Dropout(0.25))"
   ]
  },
  {
   "cell_type": "code",
   "execution_count": 13,
   "id": "d2605eca-4937-46e8-9be9-71fee1645ad7",
   "metadata": {},
   "outputs": [],
   "source": [
    "model.add(Flatten())"
   ]
  },
  {
   "cell_type": "code",
   "execution_count": 14,
   "id": "ed3be3d7-cb3c-4f0f-ab71-448104ffea79",
   "metadata": {},
   "outputs": [],
   "source": [
    "model.add(Dense(units=1500,activation='relu'))"
   ]
  },
  {
   "cell_type": "code",
   "execution_count": 15,
   "id": "61ca9155-b3d3-41c3-8755-8a9a5735208f",
   "metadata": {},
   "outputs": [],
   "source": [
    "model.add(Dropout(0.4))"
   ]
  },
  {
   "cell_type": "code",
   "execution_count": 16,
   "id": "d465ba81-6993-4bcc-8f47-492cde9a8254",
   "metadata": {},
   "outputs": [],
   "source": [
    "##output layer\n",
    "model.add(Dense(units=4,activation='softmax'))"
   ]
  },
  {
   "cell_type": "markdown",
   "id": "2e94aebc-84b4-4047-9948-7b76659c4dfa",
   "metadata": {},
   "source": [
    "## compiling model"
   ]
  },
  {
   "cell_type": "code",
   "execution_count": 17,
   "id": "94475aba-cecd-4369-aabe-d2f3053d2e7b",
   "metadata": {},
   "outputs": [],
   "source": [
    "model.compile(optimizer=tf.keras.optimizers.Adam(\n",
    "    learning_rate=0.0001),loss='categorical_crossentropy',metrics=['accuracy'])"
   ]
  },
  {
   "cell_type": "code",
   "execution_count": 18,
   "id": "78c1798f-82b3-4c8c-873b-db461c49fbd1",
   "metadata": {},
   "outputs": [
    {
     "data": {
      "text/html": [
       "<pre style=\"white-space:pre;overflow-x:auto;line-height:normal;font-family:Menlo,'DejaVu Sans Mono',consolas,'Courier New',monospace\"><span style=\"font-weight: bold\">Model: \"sequential\"</span>\n",
       "</pre>\n"
      ],
      "text/plain": [
       "\u001b[1mModel: \"sequential\"\u001b[0m\n"
      ]
     },
     "metadata": {},
     "output_type": "display_data"
    },
    {
     "data": {
      "text/html": [
       "<pre style=\"white-space:pre;overflow-x:auto;line-height:normal;font-family:Menlo,'DejaVu Sans Mono',consolas,'Courier New',monospace\">┏━━━━━━━━━━━━━━━━━━━━━━━━━━━━━━━━━━━━━━┳━━━━━━━━━━━━━━━━━━━━━━━━━━━━━┳━━━━━━━━━━━━━━━━━┓\n",
       "┃<span style=\"font-weight: bold\"> Layer (type)                         </span>┃<span style=\"font-weight: bold\"> Output Shape                </span>┃<span style=\"font-weight: bold\">         Param # </span>┃\n",
       "┡━━━━━━━━━━━━━━━━━━━━━━━━━━━━━━━━━━━━━━╇━━━━━━━━━━━━━━━━━━━━━━━━━━━━━╇━━━━━━━━━━━━━━━━━┩\n",
       "│ conv2d (<span style=\"color: #0087ff; text-decoration-color: #0087ff\">Conv2D</span>)                      │ (<span style=\"color: #00d7ff; text-decoration-color: #00d7ff\">None</span>, <span style=\"color: #00af00; text-decoration-color: #00af00\">128</span>, <span style=\"color: #00af00; text-decoration-color: #00af00\">128</span>, <span style=\"color: #00af00; text-decoration-color: #00af00\">32</span>)        │             <span style=\"color: #00af00; text-decoration-color: #00af00\">896</span> │\n",
       "├──────────────────────────────────────┼─────────────────────────────┼─────────────────┤\n",
       "│ conv2d_1 (<span style=\"color: #0087ff; text-decoration-color: #0087ff\">Conv2D</span>)                    │ (<span style=\"color: #00d7ff; text-decoration-color: #00d7ff\">None</span>, <span style=\"color: #00af00; text-decoration-color: #00af00\">126</span>, <span style=\"color: #00af00; text-decoration-color: #00af00\">126</span>, <span style=\"color: #00af00; text-decoration-color: #00af00\">32</span>)        │           <span style=\"color: #00af00; text-decoration-color: #00af00\">9,248</span> │\n",
       "├──────────────────────────────────────┼─────────────────────────────┼─────────────────┤\n",
       "│ max_pooling2d (<span style=\"color: #0087ff; text-decoration-color: #0087ff\">MaxPooling2D</span>)         │ (<span style=\"color: #00d7ff; text-decoration-color: #00d7ff\">None</span>, <span style=\"color: #00af00; text-decoration-color: #00af00\">63</span>, <span style=\"color: #00af00; text-decoration-color: #00af00\">63</span>, <span style=\"color: #00af00; text-decoration-color: #00af00\">32</span>)          │               <span style=\"color: #00af00; text-decoration-color: #00af00\">0</span> │\n",
       "├──────────────────────────────────────┼─────────────────────────────┼─────────────────┤\n",
       "│ conv2d_2 (<span style=\"color: #0087ff; text-decoration-color: #0087ff\">Conv2D</span>)                    │ (<span style=\"color: #00d7ff; text-decoration-color: #00d7ff\">None</span>, <span style=\"color: #00af00; text-decoration-color: #00af00\">63</span>, <span style=\"color: #00af00; text-decoration-color: #00af00\">63</span>, <span style=\"color: #00af00; text-decoration-color: #00af00\">64</span>)          │          <span style=\"color: #00af00; text-decoration-color: #00af00\">18,496</span> │\n",
       "├──────────────────────────────────────┼─────────────────────────────┼─────────────────┤\n",
       "│ conv2d_3 (<span style=\"color: #0087ff; text-decoration-color: #0087ff\">Conv2D</span>)                    │ (<span style=\"color: #00d7ff; text-decoration-color: #00d7ff\">None</span>, <span style=\"color: #00af00; text-decoration-color: #00af00\">61</span>, <span style=\"color: #00af00; text-decoration-color: #00af00\">61</span>, <span style=\"color: #00af00; text-decoration-color: #00af00\">64</span>)          │          <span style=\"color: #00af00; text-decoration-color: #00af00\">36,928</span> │\n",
       "├──────────────────────────────────────┼─────────────────────────────┼─────────────────┤\n",
       "│ max_pooling2d_1 (<span style=\"color: #0087ff; text-decoration-color: #0087ff\">MaxPooling2D</span>)       │ (<span style=\"color: #00d7ff; text-decoration-color: #00d7ff\">None</span>, <span style=\"color: #00af00; text-decoration-color: #00af00\">30</span>, <span style=\"color: #00af00; text-decoration-color: #00af00\">30</span>, <span style=\"color: #00af00; text-decoration-color: #00af00\">64</span>)          │               <span style=\"color: #00af00; text-decoration-color: #00af00\">0</span> │\n",
       "├──────────────────────────────────────┼─────────────────────────────┼─────────────────┤\n",
       "│ conv2d_4 (<span style=\"color: #0087ff; text-decoration-color: #0087ff\">Conv2D</span>)                    │ (<span style=\"color: #00d7ff; text-decoration-color: #00d7ff\">None</span>, <span style=\"color: #00af00; text-decoration-color: #00af00\">30</span>, <span style=\"color: #00af00; text-decoration-color: #00af00\">30</span>, <span style=\"color: #00af00; text-decoration-color: #00af00\">128</span>)         │          <span style=\"color: #00af00; text-decoration-color: #00af00\">73,856</span> │\n",
       "├──────────────────────────────────────┼─────────────────────────────┼─────────────────┤\n",
       "│ conv2d_5 (<span style=\"color: #0087ff; text-decoration-color: #0087ff\">Conv2D</span>)                    │ (<span style=\"color: #00d7ff; text-decoration-color: #00d7ff\">None</span>, <span style=\"color: #00af00; text-decoration-color: #00af00\">28</span>, <span style=\"color: #00af00; text-decoration-color: #00af00\">28</span>, <span style=\"color: #00af00; text-decoration-color: #00af00\">128</span>)         │         <span style=\"color: #00af00; text-decoration-color: #00af00\">147,584</span> │\n",
       "├──────────────────────────────────────┼─────────────────────────────┼─────────────────┤\n",
       "│ max_pooling2d_2 (<span style=\"color: #0087ff; text-decoration-color: #0087ff\">MaxPooling2D</span>)       │ (<span style=\"color: #00d7ff; text-decoration-color: #00d7ff\">None</span>, <span style=\"color: #00af00; text-decoration-color: #00af00\">14</span>, <span style=\"color: #00af00; text-decoration-color: #00af00\">14</span>, <span style=\"color: #00af00; text-decoration-color: #00af00\">128</span>)         │               <span style=\"color: #00af00; text-decoration-color: #00af00\">0</span> │\n",
       "├──────────────────────────────────────┼─────────────────────────────┼─────────────────┤\n",
       "│ conv2d_6 (<span style=\"color: #0087ff; text-decoration-color: #0087ff\">Conv2D</span>)                    │ (<span style=\"color: #00d7ff; text-decoration-color: #00d7ff\">None</span>, <span style=\"color: #00af00; text-decoration-color: #00af00\">14</span>, <span style=\"color: #00af00; text-decoration-color: #00af00\">14</span>, <span style=\"color: #00af00; text-decoration-color: #00af00\">256</span>)         │         <span style=\"color: #00af00; text-decoration-color: #00af00\">295,168</span> │\n",
       "├──────────────────────────────────────┼─────────────────────────────┼─────────────────┤\n",
       "│ conv2d_7 (<span style=\"color: #0087ff; text-decoration-color: #0087ff\">Conv2D</span>)                    │ (<span style=\"color: #00d7ff; text-decoration-color: #00d7ff\">None</span>, <span style=\"color: #00af00; text-decoration-color: #00af00\">12</span>, <span style=\"color: #00af00; text-decoration-color: #00af00\">12</span>, <span style=\"color: #00af00; text-decoration-color: #00af00\">256</span>)         │         <span style=\"color: #00af00; text-decoration-color: #00af00\">590,080</span> │\n",
       "├──────────────────────────────────────┼─────────────────────────────┼─────────────────┤\n",
       "│ max_pooling2d_3 (<span style=\"color: #0087ff; text-decoration-color: #0087ff\">MaxPooling2D</span>)       │ (<span style=\"color: #00d7ff; text-decoration-color: #00d7ff\">None</span>, <span style=\"color: #00af00; text-decoration-color: #00af00\">6</span>, <span style=\"color: #00af00; text-decoration-color: #00af00\">6</span>, <span style=\"color: #00af00; text-decoration-color: #00af00\">256</span>)           │               <span style=\"color: #00af00; text-decoration-color: #00af00\">0</span> │\n",
       "├──────────────────────────────────────┼─────────────────────────────┼─────────────────┤\n",
       "│ conv2d_8 (<span style=\"color: #0087ff; text-decoration-color: #0087ff\">Conv2D</span>)                    │ (<span style=\"color: #00d7ff; text-decoration-color: #00d7ff\">None</span>, <span style=\"color: #00af00; text-decoration-color: #00af00\">6</span>, <span style=\"color: #00af00; text-decoration-color: #00af00\">6</span>, <span style=\"color: #00af00; text-decoration-color: #00af00\">512</span>)           │       <span style=\"color: #00af00; text-decoration-color: #00af00\">1,180,160</span> │\n",
       "├──────────────────────────────────────┼─────────────────────────────┼─────────────────┤\n",
       "│ conv2d_9 (<span style=\"color: #0087ff; text-decoration-color: #0087ff\">Conv2D</span>)                    │ (<span style=\"color: #00d7ff; text-decoration-color: #00d7ff\">None</span>, <span style=\"color: #00af00; text-decoration-color: #00af00\">4</span>, <span style=\"color: #00af00; text-decoration-color: #00af00\">4</span>, <span style=\"color: #00af00; text-decoration-color: #00af00\">512</span>)           │       <span style=\"color: #00af00; text-decoration-color: #00af00\">2,359,808</span> │\n",
       "├──────────────────────────────────────┼─────────────────────────────┼─────────────────┤\n",
       "│ max_pooling2d_4 (<span style=\"color: #0087ff; text-decoration-color: #0087ff\">MaxPooling2D</span>)       │ (<span style=\"color: #00d7ff; text-decoration-color: #00d7ff\">None</span>, <span style=\"color: #00af00; text-decoration-color: #00af00\">2</span>, <span style=\"color: #00af00; text-decoration-color: #00af00\">2</span>, <span style=\"color: #00af00; text-decoration-color: #00af00\">512</span>)           │               <span style=\"color: #00af00; text-decoration-color: #00af00\">0</span> │\n",
       "├──────────────────────────────────────┼─────────────────────────────┼─────────────────┤\n",
       "│ dropout (<span style=\"color: #0087ff; text-decoration-color: #0087ff\">Dropout</span>)                    │ (<span style=\"color: #00d7ff; text-decoration-color: #00d7ff\">None</span>, <span style=\"color: #00af00; text-decoration-color: #00af00\">2</span>, <span style=\"color: #00af00; text-decoration-color: #00af00\">2</span>, <span style=\"color: #00af00; text-decoration-color: #00af00\">512</span>)           │               <span style=\"color: #00af00; text-decoration-color: #00af00\">0</span> │\n",
       "├──────────────────────────────────────┼─────────────────────────────┼─────────────────┤\n",
       "│ flatten (<span style=\"color: #0087ff; text-decoration-color: #0087ff\">Flatten</span>)                    │ (<span style=\"color: #00d7ff; text-decoration-color: #00d7ff\">None</span>, <span style=\"color: #00af00; text-decoration-color: #00af00\">2048</span>)                │               <span style=\"color: #00af00; text-decoration-color: #00af00\">0</span> │\n",
       "├──────────────────────────────────────┼─────────────────────────────┼─────────────────┤\n",
       "│ dense (<span style=\"color: #0087ff; text-decoration-color: #0087ff\">Dense</span>)                        │ (<span style=\"color: #00d7ff; text-decoration-color: #00d7ff\">None</span>, <span style=\"color: #00af00; text-decoration-color: #00af00\">1500</span>)                │       <span style=\"color: #00af00; text-decoration-color: #00af00\">3,073,500</span> │\n",
       "├──────────────────────────────────────┼─────────────────────────────┼─────────────────┤\n",
       "│ dropout_1 (<span style=\"color: #0087ff; text-decoration-color: #0087ff\">Dropout</span>)                  │ (<span style=\"color: #00d7ff; text-decoration-color: #00d7ff\">None</span>, <span style=\"color: #00af00; text-decoration-color: #00af00\">1500</span>)                │               <span style=\"color: #00af00; text-decoration-color: #00af00\">0</span> │\n",
       "├──────────────────────────────────────┼─────────────────────────────┼─────────────────┤\n",
       "│ dense_1 (<span style=\"color: #0087ff; text-decoration-color: #0087ff\">Dense</span>)                      │ (<span style=\"color: #00d7ff; text-decoration-color: #00d7ff\">None</span>, <span style=\"color: #00af00; text-decoration-color: #00af00\">4</span>)                   │           <span style=\"color: #00af00; text-decoration-color: #00af00\">6,004</span> │\n",
       "└──────────────────────────────────────┴─────────────────────────────┴─────────────────┘\n",
       "</pre>\n"
      ],
      "text/plain": [
       "┏━━━━━━━━━━━━━━━━━━━━━━━━━━━━━━━━━━━━━━┳━━━━━━━━━━━━━━━━━━━━━━━━━━━━━┳━━━━━━━━━━━━━━━━━┓\n",
       "┃\u001b[1m \u001b[0m\u001b[1mLayer (type)                        \u001b[0m\u001b[1m \u001b[0m┃\u001b[1m \u001b[0m\u001b[1mOutput Shape               \u001b[0m\u001b[1m \u001b[0m┃\u001b[1m \u001b[0m\u001b[1m        Param #\u001b[0m\u001b[1m \u001b[0m┃\n",
       "┡━━━━━━━━━━━━━━━━━━━━━━━━━━━━━━━━━━━━━━╇━━━━━━━━━━━━━━━━━━━━━━━━━━━━━╇━━━━━━━━━━━━━━━━━┩\n",
       "│ conv2d (\u001b[38;5;33mConv2D\u001b[0m)                      │ (\u001b[38;5;45mNone\u001b[0m, \u001b[38;5;34m128\u001b[0m, \u001b[38;5;34m128\u001b[0m, \u001b[38;5;34m32\u001b[0m)        │             \u001b[38;5;34m896\u001b[0m │\n",
       "├──────────────────────────────────────┼─────────────────────────────┼─────────────────┤\n",
       "│ conv2d_1 (\u001b[38;5;33mConv2D\u001b[0m)                    │ (\u001b[38;5;45mNone\u001b[0m, \u001b[38;5;34m126\u001b[0m, \u001b[38;5;34m126\u001b[0m, \u001b[38;5;34m32\u001b[0m)        │           \u001b[38;5;34m9,248\u001b[0m │\n",
       "├──────────────────────────────────────┼─────────────────────────────┼─────────────────┤\n",
       "│ max_pooling2d (\u001b[38;5;33mMaxPooling2D\u001b[0m)         │ (\u001b[38;5;45mNone\u001b[0m, \u001b[38;5;34m63\u001b[0m, \u001b[38;5;34m63\u001b[0m, \u001b[38;5;34m32\u001b[0m)          │               \u001b[38;5;34m0\u001b[0m │\n",
       "├──────────────────────────────────────┼─────────────────────────────┼─────────────────┤\n",
       "│ conv2d_2 (\u001b[38;5;33mConv2D\u001b[0m)                    │ (\u001b[38;5;45mNone\u001b[0m, \u001b[38;5;34m63\u001b[0m, \u001b[38;5;34m63\u001b[0m, \u001b[38;5;34m64\u001b[0m)          │          \u001b[38;5;34m18,496\u001b[0m │\n",
       "├──────────────────────────────────────┼─────────────────────────────┼─────────────────┤\n",
       "│ conv2d_3 (\u001b[38;5;33mConv2D\u001b[0m)                    │ (\u001b[38;5;45mNone\u001b[0m, \u001b[38;5;34m61\u001b[0m, \u001b[38;5;34m61\u001b[0m, \u001b[38;5;34m64\u001b[0m)          │          \u001b[38;5;34m36,928\u001b[0m │\n",
       "├──────────────────────────────────────┼─────────────────────────────┼─────────────────┤\n",
       "│ max_pooling2d_1 (\u001b[38;5;33mMaxPooling2D\u001b[0m)       │ (\u001b[38;5;45mNone\u001b[0m, \u001b[38;5;34m30\u001b[0m, \u001b[38;5;34m30\u001b[0m, \u001b[38;5;34m64\u001b[0m)          │               \u001b[38;5;34m0\u001b[0m │\n",
       "├──────────────────────────────────────┼─────────────────────────────┼─────────────────┤\n",
       "│ conv2d_4 (\u001b[38;5;33mConv2D\u001b[0m)                    │ (\u001b[38;5;45mNone\u001b[0m, \u001b[38;5;34m30\u001b[0m, \u001b[38;5;34m30\u001b[0m, \u001b[38;5;34m128\u001b[0m)         │          \u001b[38;5;34m73,856\u001b[0m │\n",
       "├──────────────────────────────────────┼─────────────────────────────┼─────────────────┤\n",
       "│ conv2d_5 (\u001b[38;5;33mConv2D\u001b[0m)                    │ (\u001b[38;5;45mNone\u001b[0m, \u001b[38;5;34m28\u001b[0m, \u001b[38;5;34m28\u001b[0m, \u001b[38;5;34m128\u001b[0m)         │         \u001b[38;5;34m147,584\u001b[0m │\n",
       "├──────────────────────────────────────┼─────────────────────────────┼─────────────────┤\n",
       "│ max_pooling2d_2 (\u001b[38;5;33mMaxPooling2D\u001b[0m)       │ (\u001b[38;5;45mNone\u001b[0m, \u001b[38;5;34m14\u001b[0m, \u001b[38;5;34m14\u001b[0m, \u001b[38;5;34m128\u001b[0m)         │               \u001b[38;5;34m0\u001b[0m │\n",
       "├──────────────────────────────────────┼─────────────────────────────┼─────────────────┤\n",
       "│ conv2d_6 (\u001b[38;5;33mConv2D\u001b[0m)                    │ (\u001b[38;5;45mNone\u001b[0m, \u001b[38;5;34m14\u001b[0m, \u001b[38;5;34m14\u001b[0m, \u001b[38;5;34m256\u001b[0m)         │         \u001b[38;5;34m295,168\u001b[0m │\n",
       "├──────────────────────────────────────┼─────────────────────────────┼─────────────────┤\n",
       "│ conv2d_7 (\u001b[38;5;33mConv2D\u001b[0m)                    │ (\u001b[38;5;45mNone\u001b[0m, \u001b[38;5;34m12\u001b[0m, \u001b[38;5;34m12\u001b[0m, \u001b[38;5;34m256\u001b[0m)         │         \u001b[38;5;34m590,080\u001b[0m │\n",
       "├──────────────────────────────────────┼─────────────────────────────┼─────────────────┤\n",
       "│ max_pooling2d_3 (\u001b[38;5;33mMaxPooling2D\u001b[0m)       │ (\u001b[38;5;45mNone\u001b[0m, \u001b[38;5;34m6\u001b[0m, \u001b[38;5;34m6\u001b[0m, \u001b[38;5;34m256\u001b[0m)           │               \u001b[38;5;34m0\u001b[0m │\n",
       "├──────────────────────────────────────┼─────────────────────────────┼─────────────────┤\n",
       "│ conv2d_8 (\u001b[38;5;33mConv2D\u001b[0m)                    │ (\u001b[38;5;45mNone\u001b[0m, \u001b[38;5;34m6\u001b[0m, \u001b[38;5;34m6\u001b[0m, \u001b[38;5;34m512\u001b[0m)           │       \u001b[38;5;34m1,180,160\u001b[0m │\n",
       "├──────────────────────────────────────┼─────────────────────────────┼─────────────────┤\n",
       "│ conv2d_9 (\u001b[38;5;33mConv2D\u001b[0m)                    │ (\u001b[38;5;45mNone\u001b[0m, \u001b[38;5;34m4\u001b[0m, \u001b[38;5;34m4\u001b[0m, \u001b[38;5;34m512\u001b[0m)           │       \u001b[38;5;34m2,359,808\u001b[0m │\n",
       "├──────────────────────────────────────┼─────────────────────────────┼─────────────────┤\n",
       "│ max_pooling2d_4 (\u001b[38;5;33mMaxPooling2D\u001b[0m)       │ (\u001b[38;5;45mNone\u001b[0m, \u001b[38;5;34m2\u001b[0m, \u001b[38;5;34m2\u001b[0m, \u001b[38;5;34m512\u001b[0m)           │               \u001b[38;5;34m0\u001b[0m │\n",
       "├──────────────────────────────────────┼─────────────────────────────┼─────────────────┤\n",
       "│ dropout (\u001b[38;5;33mDropout\u001b[0m)                    │ (\u001b[38;5;45mNone\u001b[0m, \u001b[38;5;34m2\u001b[0m, \u001b[38;5;34m2\u001b[0m, \u001b[38;5;34m512\u001b[0m)           │               \u001b[38;5;34m0\u001b[0m │\n",
       "├──────────────────────────────────────┼─────────────────────────────┼─────────────────┤\n",
       "│ flatten (\u001b[38;5;33mFlatten\u001b[0m)                    │ (\u001b[38;5;45mNone\u001b[0m, \u001b[38;5;34m2048\u001b[0m)                │               \u001b[38;5;34m0\u001b[0m │\n",
       "├──────────────────────────────────────┼─────────────────────────────┼─────────────────┤\n",
       "│ dense (\u001b[38;5;33mDense\u001b[0m)                        │ (\u001b[38;5;45mNone\u001b[0m, \u001b[38;5;34m1500\u001b[0m)                │       \u001b[38;5;34m3,073,500\u001b[0m │\n",
       "├──────────────────────────────────────┼─────────────────────────────┼─────────────────┤\n",
       "│ dropout_1 (\u001b[38;5;33mDropout\u001b[0m)                  │ (\u001b[38;5;45mNone\u001b[0m, \u001b[38;5;34m1500\u001b[0m)                │               \u001b[38;5;34m0\u001b[0m │\n",
       "├──────────────────────────────────────┼─────────────────────────────┼─────────────────┤\n",
       "│ dense_1 (\u001b[38;5;33mDense\u001b[0m)                      │ (\u001b[38;5;45mNone\u001b[0m, \u001b[38;5;34m4\u001b[0m)                   │           \u001b[38;5;34m6,004\u001b[0m │\n",
       "└──────────────────────────────────────┴─────────────────────────────┴─────────────────┘\n"
      ]
     },
     "metadata": {},
     "output_type": "display_data"
    },
    {
     "data": {
      "text/html": [
       "<pre style=\"white-space:pre;overflow-x:auto;line-height:normal;font-family:Menlo,'DejaVu Sans Mono',consolas,'Courier New',monospace\"><span style=\"font-weight: bold\"> Total params: </span><span style=\"color: #00af00; text-decoration-color: #00af00\">7,791,728</span> (29.72 MB)\n",
       "</pre>\n"
      ],
      "text/plain": [
       "\u001b[1m Total params: \u001b[0m\u001b[38;5;34m7,791,728\u001b[0m (29.72 MB)\n"
      ]
     },
     "metadata": {},
     "output_type": "display_data"
    },
    {
     "data": {
      "text/html": [
       "<pre style=\"white-space:pre;overflow-x:auto;line-height:normal;font-family:Menlo,'DejaVu Sans Mono',consolas,'Courier New',monospace\"><span style=\"font-weight: bold\"> Trainable params: </span><span style=\"color: #00af00; text-decoration-color: #00af00\">7,791,728</span> (29.72 MB)\n",
       "</pre>\n"
      ],
      "text/plain": [
       "\u001b[1m Trainable params: \u001b[0m\u001b[38;5;34m7,791,728\u001b[0m (29.72 MB)\n"
      ]
     },
     "metadata": {},
     "output_type": "display_data"
    },
    {
     "data": {
      "text/html": [
       "<pre style=\"white-space:pre;overflow-x:auto;line-height:normal;font-family:Menlo,'DejaVu Sans Mono',consolas,'Courier New',monospace\"><span style=\"font-weight: bold\"> Non-trainable params: </span><span style=\"color: #00af00; text-decoration-color: #00af00\">0</span> (0.00 B)\n",
       "</pre>\n"
      ],
      "text/plain": [
       "\u001b[1m Non-trainable params: \u001b[0m\u001b[38;5;34m0\u001b[0m (0.00 B)\n"
      ]
     },
     "metadata": {},
     "output_type": "display_data"
    }
   ],
   "source": [
    "model.summary()"
   ]
  },
  {
   "cell_type": "markdown",
   "id": "b026c50a-54a2-4e2f-a8a8-9b2490403d48",
   "metadata": {},
   "source": [
    "## Class Names\n"
   ]
  },
  {
   "cell_type": "code",
   "execution_count": 19,
   "id": "50063560-b962-4181-928f-ec86d1d4e7ba",
   "metadata": {},
   "outputs": [
    {
     "data": {
      "text/plain": [
       "['glioma', 'meningioma', 'notumor', 'pituitary']"
      ]
     },
     "execution_count": 19,
     "metadata": {},
     "output_type": "execute_result"
    }
   ],
   "source": [
    "class_name = validation_set.class_names\n",
    "class_name"
   ]
  },
  {
   "cell_type": "markdown",
   "id": "29c3c91d-6dfc-4b00-803e-6fc6935a5418",
   "metadata": {},
   "source": [
    "# Model Training"
   ]
  },
  {
   "cell_type": "code",
   "execution_count": 20,
   "id": "8c682ea6-2196-4ea4-8b11-13f88111d89b",
   "metadata": {},
   "outputs": [
    {
     "name": "stdout",
     "output_type": "stream",
     "text": [
      "Epoch 1/10\n",
      "\u001b[1m179/179\u001b[0m \u001b[32m━━━━━━━━━━━━━━━━━━━━\u001b[0m\u001b[37m\u001b[0m \u001b[1m201s\u001b[0m 1s/step - accuracy: 0.4886 - loss: 1.2434 - val_accuracy: 0.6804 - val_loss: 0.7794\n",
      "Epoch 2/10\n",
      "\u001b[1m179/179\u001b[0m \u001b[32m━━━━━━━━━━━━━━━━━━━━\u001b[0m\u001b[37m\u001b[0m \u001b[1m126s\u001b[0m 706ms/step - accuracy: 0.7660 - loss: 0.5868 - val_accuracy: 0.8009 - val_loss: 0.5143\n",
      "Epoch 3/10\n",
      "\u001b[1m179/179\u001b[0m \u001b[32m━━━━━━━━━━━━━━━━━━━━\u001b[0m\u001b[37m\u001b[0m \u001b[1m131s\u001b[0m 729ms/step - accuracy: 0.8293 - loss: 0.4443 - val_accuracy: 0.8253 - val_loss: 0.4338\n",
      "Epoch 4/10\n",
      "\u001b[1m179/179\u001b[0m \u001b[32m━━━━━━━━━━━━━━━━━━━━\u001b[0m\u001b[37m\u001b[0m \u001b[1m133s\u001b[0m 743ms/step - accuracy: 0.8874 - loss: 0.2997 - val_accuracy: 0.8947 - val_loss: 0.2868\n",
      "Epoch 5/10\n",
      "\u001b[1m179/179\u001b[0m \u001b[32m━━━━━━━━━━━━━━━━━━━━\u001b[0m\u001b[37m\u001b[0m \u001b[1m139s\u001b[0m 775ms/step - accuracy: 0.9149 - loss: 0.2354 - val_accuracy: 0.8978 - val_loss: 0.2891\n",
      "Epoch 6/10\n",
      "\u001b[1m179/179\u001b[0m \u001b[32m━━━━━━━━━━━━━━━━━━━━\u001b[0m\u001b[37m\u001b[0m \u001b[1m136s\u001b[0m 762ms/step - accuracy: 0.9439 - loss: 0.1598 - val_accuracy: 0.8863 - val_loss: 0.3398\n",
      "Epoch 7/10\n",
      "\u001b[1m179/179\u001b[0m \u001b[32m━━━━━━━━━━━━━━━━━━━━\u001b[0m\u001b[37m\u001b[0m \u001b[1m137s\u001b[0m 765ms/step - accuracy: 0.9596 - loss: 0.1285 - val_accuracy: 0.9649 - val_loss: 0.0985\n",
      "Epoch 8/10\n",
      "\u001b[1m179/179\u001b[0m \u001b[32m━━━━━━━━━━━━━━━━━━━━\u001b[0m\u001b[37m\u001b[0m \u001b[1m141s\u001b[0m 762ms/step - accuracy: 0.9767 - loss: 0.0703 - val_accuracy: 0.9611 - val_loss: 0.1214\n",
      "Epoch 9/10\n",
      "\u001b[1m179/179\u001b[0m \u001b[32m━━━━━━━━━━━━━━━━━━━━\u001b[0m\u001b[37m\u001b[0m \u001b[1m140s\u001b[0m 781ms/step - accuracy: 0.9873 - loss: 0.0463 - val_accuracy: 0.9649 - val_loss: 0.1189\n",
      "Epoch 10/10\n",
      "\u001b[1m179/179\u001b[0m \u001b[32m━━━━━━━━━━━━━━━━━━━━\u001b[0m\u001b[37m\u001b[0m \u001b[1m141s\u001b[0m 787ms/step - accuracy: 0.9859 - loss: 0.0403 - val_accuracy: 0.9641 - val_loss: 0.1065\n"
     ]
    }
   ],
   "source": [
    "training_history = model.fit(x=training_set,validation_data=validation_set, epochs = 10)"
   ]
  },
  {
   "cell_type": "markdown",
   "id": "d38e9cff-a7a7-4d08-8e46-362ff9f97f9e",
   "metadata": {},
   "source": [
    "## Model evaluation\n"
   ]
  },
  {
   "cell_type": "code",
   "execution_count": 21,
   "id": "c4aa6c40-0179-4ec0-8236-6839324c52e2",
   "metadata": {},
   "outputs": [
    {
     "name": "stdout",
     "output_type": "stream",
     "text": [
      "\u001b[1m179/179\u001b[0m \u001b[32m━━━━━━━━━━━━━━━━━━━━\u001b[0m\u001b[37m\u001b[0m \u001b[1m41s\u001b[0m 227ms/step - accuracy: 0.9893 - loss: 0.0310\n"
     ]
    }
   ],
   "source": [
    "train_loss,train_acc = model.evaluate(training_set)"
   ]
  },
  {
   "cell_type": "code",
   "execution_count": 22,
   "id": "8cf4aadd-ba13-43dd-b174-4deceed4666c",
   "metadata": {},
   "outputs": [
    {
     "name": "stdout",
     "output_type": "stream",
     "text": [
      "0.025948304682970047 0.9922969341278076\n"
     ]
    }
   ],
   "source": [
    "print(train_loss,train_acc)"
   ]
  },
  {
   "cell_type": "code",
   "execution_count": 23,
   "id": "c638f2b7-35d1-483a-a359-3938619e7e8c",
   "metadata": {},
   "outputs": [
    {
     "name": "stdout",
     "output_type": "stream",
     "text": [
      "\u001b[1m41/41\u001b[0m \u001b[32m━━━━━━━━━━━━━━━━━━━━\u001b[0m\u001b[37m\u001b[0m \u001b[1m9s\u001b[0m 223ms/step - accuracy: 0.9667 - loss: 0.1092\n"
     ]
    }
   ],
   "source": [
    "val_loss,val_acc = model.evaluate(validation_set)"
   ]
  },
  {
   "cell_type": "code",
   "execution_count": 24,
   "id": "80d56d09-8105-49b2-8af8-3115fe92df3c",
   "metadata": {},
   "outputs": [
    {
     "name": "stdout",
     "output_type": "stream",
     "text": [
      "0.10645784437656403 0.9641494750976562\n"
     ]
    }
   ],
   "source": [
    "print(val_loss,val_acc)"
   ]
  },
  {
   "cell_type": "markdown",
   "id": "f7040071-e1f7-4f0e-b68d-2be59e08a8c7",
   "metadata": {},
   "source": [
    "# saving model"
   ]
  },
  {
   "cell_type": "code",
   "execution_count": 25,
   "id": "60eea600-1b20-4390-aec3-cf04366c6106",
   "metadata": {},
   "outputs": [],
   "source": [
    "model.save(\"trained_model8.keras\")"
   ]
  },
  {
   "cell_type": "code",
   "execution_count": 26,
   "id": "c4a2a1b1-89a8-4b8b-8f87-aae9fc68d7f8",
   "metadata": {},
   "outputs": [
    {
     "data": {
      "text/plain": [
       "{'accuracy': [0.6153711676597595,\n",
       "  0.7927170991897583,\n",
       "  0.8501400351524353,\n",
       "  0.9016106724739075,\n",
       "  0.9247198700904846,\n",
       "  0.9501050710678101,\n",
       "  0.9627100825309753,\n",
       "  0.9765406250953674,\n",
       "  0.9872198700904846,\n",
       "  0.9837185144424438],\n",
       " 'loss': [0.9134860634803772,\n",
       "  0.5246232151985168,\n",
       "  0.39321964979171753,\n",
       "  0.2664293050765991,\n",
       "  0.20564059913158417,\n",
       "  0.1397353708744049,\n",
       "  0.11127466708421707,\n",
       "  0.06968772411346436,\n",
       "  0.0424279160797596,\n",
       "  0.04741159453988075],\n",
       " 'val_accuracy': [0.6803966164588928,\n",
       "  0.8009153604507446,\n",
       "  0.8253241777420044,\n",
       "  0.8947368264198303,\n",
       "  0.8977879285812378,\n",
       "  0.8863462805747986,\n",
       "  0.9649122953414917,\n",
       "  0.9610983729362488,\n",
       "  0.9649122953414917,\n",
       "  0.9641494750976562],\n",
       " 'val_loss': [0.7793969511985779,\n",
       "  0.5142787098884583,\n",
       "  0.433752179145813,\n",
       "  0.28682276606559753,\n",
       "  0.2891179621219635,\n",
       "  0.33979490399360657,\n",
       "  0.09852813929319382,\n",
       "  0.12135688215494156,\n",
       "  0.11887091398239136,\n",
       "  0.10645784437656403]}"
      ]
     },
     "execution_count": 26,
     "metadata": {},
     "output_type": "execute_result"
    }
   ],
   "source": [
    "training_history.history"
   ]
  },
  {
   "cell_type": "code",
   "execution_count": 27,
   "id": "acf7845d-e199-46aa-8296-b59e889d979d",
   "metadata": {},
   "outputs": [],
   "source": [
    "import json \n",
    "with open(\"Training_hist.json\",\"w\") as f:\n",
    "    json.dump(training_history.history,f)"
   ]
  },
  {
   "cell_type": "markdown",
   "id": "45f5798c-3635-4f50-a912-a2e4e93ca635",
   "metadata": {},
   "source": [
    "## Accuracy Visualization"
   ]
  },
  {
   "cell_type": "code",
   "execution_count": 28,
   "id": "ae5f7234-cc14-407a-a4a3-0eaf5e98fe4b",
   "metadata": {},
   "outputs": [
    {
     "data": {
      "image/png": "[encoded data removed]",
      "text/plain": [
       "<Figure size 640x480 with 1 Axes>"
      ]
     },
     "metadata": {},
     "output_type": "display_data"
    }
   ],
   "source": [
    "epochs = [i for i in range(1,11)]\n",
    "plt.plot(epochs,training_history.history['accuracy'],color='red',label='Training Accuracy')\n",
    "plt.plot(epochs,training_history.history['val_accuracy'],color='blue',label='Validation Accuracy')\n",
    "plt.xlabel('No. of Epochs')\n",
    "plt.title('Visualization of Accuracy Result')\n",
    "plt.legend()\n",
    "plt.show()"
   ]
  },
  {
   "cell_type": "markdown",
   "id": "c3d749c8-bc53-488e-95bc-f05fa6d62e01",
   "metadata": {},
   "source": [
    "## Testing Model"
   ]
  },
  {
   "cell_type": "code",
   "execution_count": 30,
   "id": "10ebb27b-4c6d-48d6-af12-fde2d1f498ec",
   "metadata": {},
   "outputs": [
    {
     "name": "stdout",
     "output_type": "stream",
     "text": [
      "Found 1311 files belonging to 4 classes.\n"
     ]
    }
   ],
   "source": [
    "test_set = tf.keras.utils.image_dataset_from_directory(\n",
    "    'Testing',\n",
    "    labels=\"inferred\",\n",
    "    label_mode=\"categorical\",\n",
    "    class_names=None,\n",
    "    color_mode=\"rgb\",\n",
    "    batch_size=32,\n",
    "    image_size=(128, 128),\n",
    "    shuffle=False,\n",
    "    seed=None,\n",
    "    validation_split=None,\n",
    "    subset=None,\n",
    "    interpolation=\"bilinear\",\n",
    "    follow_links=False,\n",
    "    crop_to_aspect_ratio=False,\n",
    "    data_format=None,\n",
    ")"
   ]
  },
  {
   "cell_type": "code",
   "execution_count": 31,
   "id": "692975d5-9174-4752-a879-c8a83447a583",
   "metadata": {},
   "outputs": [
    {
     "name": "stdout",
     "output_type": "stream",
     "text": [
      "\u001b[1m41/41\u001b[0m \u001b[32m━━━━━━━━━━━━━━━━━━━━\u001b[0m\u001b[37m\u001b[0m \u001b[1m6s\u001b[0m 150ms/step\n"
     ]
    },
    {
     "data": {
      "text/plain": [
       "array([[9.7127718e-01, 2.0028283e-03, 2.3241352e-02, 3.4786367e-03],\n",
       "       [8.2981408e-01, 4.0504456e-02, 1.4278475e-04, 1.2953871e-01],\n",
       "       [9.9555933e-01, 4.1126688e-03, 1.5749631e-05, 3.1217525e-04],\n",
       "       ...,\n",
       "       [1.7428427e-05, 1.1359519e-02, 8.0124992e-05, 9.8854291e-01],\n",
       "       [4.0256182e-06, 2.0211612e-05, 9.6569458e-08, 9.9997556e-01],\n",
       "       [2.5193916e-10, 8.1893340e-08, 1.5262365e-09, 9.9999988e-01]],\n",
       "      dtype=float32)"
      ]
     },
     "execution_count": 31,
     "metadata": {},
     "output_type": "execute_result"
    }
   ],
   "source": [
    "y_pred = model.predict(test_set)\n",
    "y_pred"
   ]
  },
  {
   "cell_type": "code",
   "execution_count": 32,
   "id": "467c3c61-2b09-4b4d-9b0f-a04377f74c20",
   "metadata": {},
   "outputs": [
    {
     "data": {
      "text/plain": [
       "<tf.Tensor: shape=(1311,), dtype=int64, numpy=array([0, 0, 0, ..., 3, 3, 3], dtype=int64)>"
      ]
     },
     "execution_count": 32,
     "metadata": {},
     "output_type": "execute_result"
    }
   ],
   "source": [
    "predicted_categories = tf.argmax(y_pred,axis=1)\n",
    "predicted_categories"
   ]
  },
  {
   "cell_type": "code",
   "execution_count": 33,
   "id": "e14873d8-2e28-4d67-9483-bf8ab34c5df0",
   "metadata": {},
   "outputs": [],
   "source": [
    "true_categories = tf.concat([y for x, y in test_set], axis=0)\n",
    "Y_true = tf.argmax(true_categories, axis=1)"
   ]
  },
  {
   "cell_type": "markdown",
   "id": "c1e72a79-6013-42d5-8ddc-8ac7846f094f",
   "metadata": {},
   "source": [
    "## Confusion Matrix Visualization"
   ]
  },
  {
   "cell_type": "code",
   "execution_count": 34,
   "id": "3c428939-dda9-47be-9f04-a3b344766c51",
   "metadata": {},
   "outputs": [],
   "source": [
    "from sklearn.metrics import confusion_matrix,classification_report\n",
    "cm = confusion_matrix(Y_true,predicted_categories)"
   ]
  },
  {
   "cell_type": "code",
   "execution_count": 35,
   "id": "43421781-f6d3-4fd2-b8ae-4dfce19ff7ff",
   "metadata": {},
   "outputs": [
    {
     "data": {
      "image/png": "[encoded data removed]",
      "text/plain": [
       "<Figure size 700x600 with 2 Axes>"
      ]
     },
     "metadata": {},
     "output_type": "display_data"
    }
   ],
   "source": [
    "plt.figure(figsize=(7, 6))\n",
    "sns.heatmap(cm,annot=True,annot_kws={\"size\": 6})\n",
    "\n",
    "plt.xlabel('Predicted Class',fontsize = 15)\n",
    "plt.ylabel('Actual Class',fontsize = 15)\n",
    "plt.title('Plant Disease Prediction Confusion Matrix',fontsize = 20)\n",
    "plt.show()"
   ]
  },
  {
   "cell_type": "code",
   "execution_count": null,
   "id": "38890912-593f-446b-8b56-fda12e0e2b42",
   "metadata": {},
   "outputs": [],
   "source": []
  }
 ],
 "metadata": {
  "kernelspec": {
   "display_name": "Python 3 (ipykernel)",
   "language": "python",
   "name": "python3"
  },
  "language_info": {
   "codemirror_mode": {
    "name": "ipython",
    "version": 3
   },
   "file_extension": ".py",
   "mimetype": "text/x-python",
   "name": "python",
   "nbconvert_exporter": "python",
   "pygments_lexer": "ipython3",
   "version": "3.12.3"
  }
 },
 "nbformat": 4,
 "nbformat_minor": 5
}
